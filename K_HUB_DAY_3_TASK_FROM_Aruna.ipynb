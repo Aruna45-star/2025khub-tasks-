{
  "nbformat": 4,
  "nbformat_minor": 0,
  "metadata": {
    "colab": {
      "provenance": [],
      "authorship_tag": "ABX9TyMX199ZYygO4C3Li4zes5y1",
      "include_colab_link": true
    },
    "kernelspec": {
      "name": "python3",
      "display_name": "Python 3"
    },
    "language_info": {
      "name": "python"
    }
  },
  "cells": [
    {
      "cell_type": "markdown",
      "metadata": {
        "id": "view-in-github",
        "colab_type": "text"
      },
      "source": [
        "<a href=\"https://colab.research.google.com/github/Aruna45-star/2025khub-tasks-/blob/main/K_HUB_DAY_3_TASK_FROM_Aruna.ipynb\" target=\"_parent\"><img src=\"https://colab.research.google.com/assets/colab-badge.svg\" alt=\"Open In Colab\"/></a>"
      ]
    },
    {
      "cell_type": "code",
      "execution_count": null,
      "metadata": {
        "colab": {
          "base_uri": "https://localhost:8080/"
        },
        "id": "zH8Cgov4BwJC",
        "outputId": "cb7d75e6-8f80-4750-c165-f90e762c3b3b"
      },
      "outputs": [
        {
          "output_type": "stream",
          "name": "stdout",
          "text": [
            "enter the first num: 43\n",
            "enter the second num: 35\n",
            "1.addition\n",
            "2.subtraction\n",
            "3.multiplication\n",
            "4.division\n",
            "enter the operator:3\n",
            "result: None\n"
          ]
        }
      ],
      "source": [
        "def add(a, b):\n",
        "    return a + b\n",
        "def subtract(a, b):\n",
        "    return a - b\n",
        "def mul(a, b):\n",
        "    return a * b\n",
        "def div(a, b):\n",
        "    return a / b\n",
        "\n",
        "\n",
        "def cal(a, b, opp):\n",
        "    if opp == 1:\n",
        "        add(a, b)\n",
        "    elif opp == 2:\n",
        "        subtract(a, b)\n",
        "    elif opp == 3:\n",
        "        mul(a, b)\n",
        "    elif opp == 4:\n",
        "        div(a, b)\n",
        "    else:\n",
        "        return \"wrong operator\"\n",
        "\n",
        "x = int(input(\"enter the first num: \"))\n",
        "y = int(input(\"enter the second num: \"))\n",
        "print(\"1.addition\\n2.subtraction\\n3.multiplication\\n4.division\")\n",
        "opp = int(input(\"enter the operator:\"))\n",
        "result = cal(x, y, opp)\n",
        "print(\"result:\", result)"
      ]
    }
  ]
}