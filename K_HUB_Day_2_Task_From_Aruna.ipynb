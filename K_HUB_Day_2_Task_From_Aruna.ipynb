{
  "nbformat": 4,
  "nbformat_minor": 0,
  "metadata": {
    "colab": {
      "provenance": [],
      "authorship_tag": "ABX9TyM0hvOcOadIbZKA3f7eVq3U",
      "include_colab_link": true
    },
    "kernelspec": {
      "name": "python3",
      "display_name": "Python 3"
    },
    "language_info": {
      "name": "python"
    }
  },
  "cells": [
    {
      "cell_type": "markdown",
      "metadata": {
        "id": "view-in-github",
        "colab_type": "text"
      },
      "source": [
        "<a href=\"https://colab.research.google.com/github/Aruna45-star/2025khub-tasks-/blob/main/K_HUB_Day_2_Task_From_Aruna.ipynb\" target=\"_parent\"><img src=\"https://colab.research.google.com/assets/colab-badge.svg\" alt=\"Open In Colab\"/></a>"
      ]
    },
    {
      "cell_type": "markdown",
      "source": [
        "FUNCTION"
      ],
      "metadata": {
        "id": "XrPBufXC8Wni"
      }
    },
    {
      "cell_type": "markdown",
      "source": [
        "FUNCTION ARE BLOCK OF THE ORGANISHED , RESUABLE CODE THAT PERFORM  A SPECIFIC TASK"
      ],
      "metadata": {
        "id": "59Rw8Kag9qHJ"
      }
    },
    {
      "cell_type": "markdown",
      "source": [
        "DIVDING A COMPLEX PROBLEM INTO SMALLER CHUNKS MAKES OUR CODE PROGRAM EASY TO UNDERSTANDAND REUSE"
      ],
      "metadata": {
        "id": "f0uDIpr-91B1"
      }
    },
    {
      "cell_type": "markdown",
      "source": [
        "Defining and Calling Functions"
      ],
      "metadata": {
        "id": "MKfb24se93Y8"
      }
    },
    {
      "cell_type": "code",
      "source": [
        "def function_name(parameters):"
      ],
      "metadata": {
        "id": "z_NcQ-pT97tB"
      },
      "execution_count": null,
      "outputs": []
    },
    {
      "cell_type": "markdown",
      "source": [
        " UNDERSTANDING RETURN"
      ],
      "metadata": {
        "id": "NESDb5zd9_MR"
      }
    },
    {
      "cell_type": "markdown",
      "source": [
        "FUNCTION  CAN RETURNA VALUE USING THE RETURN STATEMENT . THERETURNED VALUE CAN BE ASSIGNED TO A VARIABLE OR USED IN EXPRESSIONS"
      ],
      "metadata": {
        "id": "GLB9AcCf-II_"
      }
    },
    {
      "cell_type": "code",
      "source": [
        "def add(a, b):\n",
        "    return a + b\n",
        "\n",
        "result = add(10, 5)\n",
        "print(result)"
      ],
      "metadata": {
        "id": "jUiDUwSO-Jiv",
        "outputId": "c144d6e5-b474-476b-a634-8c18701bb16f",
        "colab": {
          "base_uri": "https://localhost:8080/"
        }
      },
      "execution_count": null,
      "outputs": [
        {
          "output_type": "stream",
          "name": "stdout",
          "text": [
            "15\n"
          ]
        }
      ]
    },
    {
      "cell_type": "markdown",
      "source": [
        "Function Arguments"
      ],
      "metadata": {
        "id": "PRuzt6a7-R5O"
      }
    },
    {
      "cell_type": "markdown",
      "source": [
        "Positional"
      ],
      "metadata": {
        "id": "gqbV-NIu-gaV"
      }
    },
    {
      "cell_type": "markdown",
      "source": [
        "✅ Definition:  \n",
        "\n",
        "\n",
        "\n",
        "A positional argument is an argument that needs to be in the correct position in a function call. The position of the argument in the function call must match the position of the parameter in the function definition."
      ],
      "metadata": {
        "id": "gD8wJ5Sg-TEf"
      }
    },
    {
      "cell_type": "code",
      "source": [
        "def add(a, b):\n",
        "    return a + b\n",
        "\n",
        "result = add(10, 5)\n",
        "print(result)"
      ],
      "metadata": {
        "id": "0HbsWny3-ZjQ",
        "outputId": "780a78c3-07c9-48ca-fc84-8527d90482f3",
        "colab": {
          "base_uri": "https://localhost:8080/"
        }
      },
      "execution_count": null,
      "outputs": [
        {
          "output_type": "stream",
          "name": "stdout",
          "text": [
            "15\n"
          ]
        }
      ]
    },
    {
      "cell_type": "markdown",
      "source": [
        "Default"
      ],
      "metadata": {
        "id": "rnI5YC68-jat"
      }
    },
    {
      "cell_type": "markdown",
      "source": [
        "✅ Definition:\n",
        "\n",
        "\n",
        "\n",
        "A default argument is a function parameter that assumes a default value if no value is provided during the function call.\n",
        "It allows a function to be called with fewer arguments than it is defined to accept."
      ],
      "metadata": {
        "id": "2mSpCvr1-ll9"
      }
    },
    {
      "cell_type": "code",
      "source": [
        "def sub(a, b):\n",
        "    return a - b\n",
        "\n",
        "result = sub(b=10, a=5)\n",
        "print(result)"
      ],
      "metadata": {
        "id": "vVEkKITg-vLZ",
        "outputId": "c5666e87-57d0-4435-abf5-955dbe0d58bb",
        "colab": {
          "base_uri": "https://localhost:8080/"
        }
      },
      "execution_count": null,
      "outputs": [
        {
          "output_type": "stream",
          "name": "stdout",
          "text": [
            "-5\n"
          ]
        }
      ]
    },
    {
      "cell_type": "markdown",
      "source": [
        "Keyword"
      ],
      "metadata": {
        "id": "pk89DwHl_Klc"
      }
    },
    {
      "cell_type": "markdown",
      "source": [
        " Definition:\n",
        "\n",
        "\n",
        "\n",
        "Keyword arguments are arguments passed to a function by using the parameter name, followed by the equal sign (=) and the value.\n",
        "This allows us to pass arguments in any order, and the function still understands which value goes to which parameter."
      ],
      "metadata": {
        "id": "ze_0EroP_Q_D"
      }
    },
    {
      "cell_type": "code",
      "source": [
        "def personal_info(name,salary):\n",
        "   print(\"name:\", name)\n",
        "   print(\"salary:\", salary)\n",
        "personal_info(name=\"aruna\",salary=100000)"
      ],
      "metadata": {
        "id": "XaRIZhPc_fmb",
        "outputId": "deb9765e-bd33-49f5-dee2-c1ba1676fd23",
        "colab": {
          "base_uri": "https://localhost:8080/"
        }
      },
      "execution_count": null,
      "outputs": [
        {
          "output_type": "stream",
          "name": "stdout",
          "text": [
            "name: aruna\n",
            "salary: 100000\n"
          ]
        }
      ]
    },
    {
      "cell_type": "code",
      "source": [
        "def add_numbers(*args):\n",
        "    total = 0\n",
        "    for num in args:\n",
        "        total += num\n",
        "    print(total)\n",
        "\n",
        "add_numbers(1, 2, 3)\n",
        "add_numbers(4, 5, 6, 7, 8)"
      ],
      "metadata": {
        "id": "SBo5fZMD_uOO",
        "outputId": "707535cc-afa4-4719-8213-c4ea6682ca18",
        "colab": {
          "base_uri": "https://localhost:8080/"
        }
      },
      "execution_count": null,
      "outputs": [
        {
          "output_type": "stream",
          "name": "stdout",
          "text": [
            "6\n",
            "30\n"
          ]
        }
      ]
    },
    {
      "cell_type": "code",
      "source": [
        "def display_info(*args, **kwargs):\n",
        "    print(\"Positional args:\", args)\n",
        "    print(\"Keyword args:\", kwargs)\n",
        "\n",
        "display_info(1, 2, 3, name=\"Aruna\", age=21)"
      ],
      "metadata": {
        "id": "6662189I_3s0",
        "outputId": "eb17d91b-0ea0-4ef1-a31f-de247b76642c",
        "colab": {
          "base_uri": "https://localhost:8080/"
        }
      },
      "execution_count": null,
      "outputs": [
        {
          "output_type": "stream",
          "name": "stdout",
          "text": [
            "Positional args: (1, 2, 3)\n",
            "Keyword args: {'name': 'Aruna', 'age': 21}\n"
          ]
        }
      ]
    },
    {
      "cell_type": "markdown",
      "source": [
        "Scope of Variables"
      ],
      "metadata": {
        "id": "dfcxfyk6AB0P"
      }
    },
    {
      "cell_type": "markdown",
      "source": [
        "✅ Global Scope –\n",
        "\n",
        "Definition:\n",
        "\n",
        "\n",
        "A global scope refers to variables that are defined outside all functions.\n",
        "These variables can be accessed anywhere in the program, including inside functions (unless overridden)."
      ],
      "metadata": {
        "id": "Dg3T_91nAC0F"
      }
    },
    {
      "cell_type": "code",
      "source": [
        "x = 23\n",
        "def my_function():\n",
        "    print(x)"
      ],
      "metadata": {
        "id": "JhRE4UIWAMKx"
      },
      "execution_count": null,
      "outputs": []
    },
    {
      "cell_type": "markdown",
      "source": [
        "✅ Local Scope –   \n",
        "\n",
        "\n",
        "Definition:\n",
        "\n",
        "\n",
        "\n",
        "A local scope refers to variables that are defined inside a function.\n",
        "These variables can only be used within that function and not outside of it."
      ],
      "metadata": {
        "id": "04TyPbQnAYH4"
      }
    },
    {
      "cell_type": "code",
      "source": [
        "def my_function():\n",
        "    y = 45\n",
        "    print(y)"
      ],
      "metadata": {
        "id": "7WknvPG_Ab9K"
      },
      "execution_count": null,
      "outputs": []
    },
    {
      "cell_type": "markdown",
      "source": [
        "Lambda Functions"
      ],
      "metadata": {
        "id": "PxD6OQnJAiEq"
      }
    },
    {
      "cell_type": "markdown",
      "source": [
        "✅ Lambda Function\n",
        "\n",
        " Definition:\n",
        "\n",
        "\n",
        "A lambda function in Python is a small, anonymous (nameless) function.\n",
        "It is used for short, one-line functions that have only one expression."
      ],
      "metadata": {
        "id": "_W2XWxkWAxCA"
      }
    },
    {
      "cell_type": "code",
      "source": [
        "square = lambda x: x ** 2\n",
        "result = square(4)\n",
        "print(result)"
      ],
      "metadata": {
        "id": "qZ4FTIOBA-MP",
        "outputId": "ec523095-869f-4e0f-866a-e3b155e08dea",
        "colab": {
          "base_uri": "https://localhost:8080/"
        }
      },
      "execution_count": null,
      "outputs": [
        {
          "output_type": "stream",
          "name": "stdout",
          "text": [
            "16\n"
          ]
        }
      ]
    },
    {
      "cell_type": "markdown",
      "source": [
        "LIST"
      ],
      "metadata": {
        "id": "QzQ8W_ZHBRaW"
      }
    },
    {
      "cell_type": "code",
      "source": [
        "numbers = [1, 2, 3, 4]\n",
        "squares = list(map(lambda x: x ** 2, numbers))\n",
        "print(squares)"
      ],
      "metadata": {
        "id": "41VItxQgBCQS",
        "outputId": "209fa9f8-f7f5-459e-d703-06f051aee6b7",
        "colab": {
          "base_uri": "https://localhost:8080/"
        }
      },
      "execution_count": null,
      "outputs": [
        {
          "output_type": "stream",
          "name": "stdout",
          "text": [
            "[1, 4, 9, 16]\n"
          ]
        }
      ]
    },
    {
      "cell_type": "markdown",
      "source": [
        "Filter"
      ],
      "metadata": {
        "id": "LRa7k-MVBTLg"
      }
    },
    {
      "cell_type": "code",
      "source": [
        "numbers = [1, 2, 3, 4, 5, 6]\n",
        "even = list(filter(lambda x: x % 2 == 0, numbers))\n",
        "print(even)"
      ],
      "metadata": {
        "id": "DGn5zRFHBH96",
        "outputId": "6b5833e1-d51e-4e48-eb32-c922aa520761",
        "colab": {
          "base_uri": "https://localhost:8080/"
        }
      },
      "execution_count": null,
      "outputs": [
        {
          "output_type": "stream",
          "name": "stdout",
          "text": [
            "[2, 4, 6]\n"
          ]
        }
      ]
    },
    {
      "cell_type": "markdown",
      "source": [
        "REDUCE"
      ],
      "metadata": {
        "id": "72ZQCnSOBXwd"
      }
    },
    {
      "cell_type": "code",
      "source": [
        "from functools import reduce\n",
        "\n",
        "numbers = [1, 2, 3, 4]\n",
        "result = reduce(lambda x, y: x + y, numbers)\n",
        "print(result)"
      ],
      "metadata": {
        "id": "lSpo_fOVBNH5",
        "outputId": "49be104d-a75d-4de9-f800-67e71746debe",
        "colab": {
          "base_uri": "https://localhost:8080/"
        }
      },
      "execution_count": null,
      "outputs": [
        {
          "output_type": "stream",
          "name": "stdout",
          "text": [
            "10\n"
          ]
        }
      ]
    }
  ]
}