{
  "nbformat": 4,
  "nbformat_minor": 0,
  "metadata": {
    "colab": {
      "provenance": [],
      "authorship_tag": "ABX9TyOfLMuf9wNewbVaIR+EF7dP",
      "include_colab_link": true
    },
    "kernelspec": {
      "name": "python3",
      "display_name": "Python 3"
    },
    "language_info": {
      "name": "python"
    }
  },
  "cells": [
    {
      "cell_type": "markdown",
      "metadata": {
        "id": "view-in-github",
        "colab_type": "text"
      },
      "source": [
        "<a href=\"https://colab.research.google.com/github/Aruna45-star/2025khub-tasks-/blob/main/K_HUB_Day_2_Task_From_Aruna.ipynb\" target=\"_parent\"><img src=\"https://colab.research.google.com/assets/colab-badge.svg\" alt=\"Open In Colab\"/></a>"
      ]
    },
    {
      "cell_type": "markdown",
      "source": [
        "1. for Loop – With range()\n",
        "\n",
        "✅ Syntax:"
      ],
      "metadata": {
        "id": "PxKBrm2EF51P"
      }
    },
    {
      "cell_type": "code",
      "source": [
        "for i in range(start, stop):"
      ],
      "metadata": {
        "id": "EyyhmaU-Gf9m"
      },
      "execution_count": null,
      "outputs": []
    },
    {
      "cell_type": "markdown",
      "source": [
        "🔹 start: where the loop starts\n",
        "\n",
        "\n",
        "🔹 stop: where the loop stops (not included)"
      ],
      "metadata": {
        "id": "tnx3_HHmGkul"
      }
    },
    {
      "cell_type": "markdown",
      "source": [],
      "metadata": {
        "id": "ZL86F5khGsqb"
      }
    },
    {
      "cell_type": "code",
      "source": [
        "for i in range(1, 5):\n",
        "    print(i)"
      ],
      "metadata": {
        "colab": {
          "base_uri": "https://localhost:8080/"
        },
        "id": "EDEzr7dsH6mV",
        "outputId": "96b8d682-b2cf-4b38-bb83-08e02419faec"
      },
      "execution_count": null,
      "outputs": [
        {
          "output_type": "stream",
          "name": "stdout",
          "text": [
            "1\n",
            "2\n",
            "3\n",
            "4\n"
          ]
        }
      ]
    },
    {
      "cell_type": "markdown",
      "source": [
        "2.  ITERATING OVER LISTS, STRINGS, TUPLES"
      ],
      "metadata": {
        "id": "nR9p7kaKIV9c"
      }
    },
    {
      "cell_type": "markdown",
      "source": [
        "EXAMPLE FOR LIST"
      ],
      "metadata": {
        "id": "nI8R9CnrIv40"
      }
    },
    {
      "cell_type": "code",
      "source": [
        "x = [1, 2, 3, 4, 5, 6, 7, 8, 9, 10]\n",
        "for x in range(1, 10):\n",
        "    print(x)"
      ],
      "metadata": {
        "colab": {
          "base_uri": "https://localhost:8080/"
        },
        "id": "9iXev9CpI1Ul",
        "outputId": "6a08183e-cb53-46bd-883f-45fdbae7572c"
      },
      "execution_count": null,
      "outputs": [
        {
          "output_type": "stream",
          "name": "stdout",
          "text": [
            "1\n",
            "2\n",
            "3\n",
            "4\n",
            "5\n",
            "6\n",
            "7\n",
            "8\n",
            "9\n"
          ]
        }
      ]
    },
    {
      "cell_type": "markdown",
      "source": [
        "EXAMPLE FOR STRING"
      ],
      "metadata": {
        "id": "4cbK9tpNI85d"
      }
    },
    {
      "cell_type": "code",
      "source": [
        "for letter in \"aruna is the very smart girl\":\n",
        "        print(letter)"
      ],
      "metadata": {
        "colab": {
          "base_uri": "https://localhost:8080/"
        },
        "id": "aOKzpa6ZJECL",
        "outputId": "8f425b3d-b390-4b55-b938-e6833e0617f8"
      },
      "execution_count": null,
      "outputs": [
        {
          "output_type": "stream",
          "name": "stdout",
          "text": [
            "a\n",
            "r\n",
            "u\n",
            "n\n",
            "a\n",
            " \n",
            "i\n",
            "s\n",
            " \n",
            "t\n",
            "h\n",
            "e\n",
            " \n",
            "v\n",
            "e\n",
            "r\n",
            "y\n",
            " \n",
            "s\n",
            "m\n",
            "a\n",
            "r\n",
            "t\n",
            " \n",
            "g\n",
            "i\n",
            "r\n",
            "l\n"
          ]
        }
      ]
    },
    {
      "cell_type": "markdown",
      "source": [
        "EXAMPLE FOR TUPLE"
      ],
      "metadata": {
        "id": "HriWwWMJJSDW"
      }
    },
    {
      "cell_type": "code",
      "source": [
        "x = (\"apple\", \"banana\", \"cherry\")\n",
        "for x in  x:\n",
        "    print(x)"
      ],
      "metadata": {
        "colab": {
          "base_uri": "https://localhost:8080/"
        },
        "id": "5tdKizfwJXdU",
        "outputId": "a1d72133-b5f7-4cc7-b7cc-0daeffcecf00"
      },
      "execution_count": null,
      "outputs": [
        {
          "output_type": "stream",
          "name": "stdout",
          "text": [
            "apple\n",
            "banana\n",
            "cherry\n"
          ]
        }
      ]
    },
    {
      "cell_type": "markdown",
      "source": [
        "3. WHILE LOOP\n",
        "\n",
        "Repeats code while condition is true"
      ],
      "metadata": {
        "id": "p3l3hXVrJ7Xr"
      }
    },
    {
      "cell_type": "markdown",
      "source": [
        "✅ Syntax:"
      ],
      "metadata": {
        "id": "zpgucqg3KN4y"
      }
    },
    {
      "cell_type": "code",
      "source": [
        "\n",
        "while condition:\n",
        "    # do something"
      ],
      "metadata": {
        "id": "J1t5Nmn6Kemb"
      },
      "execution_count": null,
      "outputs": []
    },
    {
      "cell_type": "markdown",
      "source": [
        "EXAMPLE"
      ],
      "metadata": {
        "id": "3LExGb-cKh-q"
      }
    },
    {
      "cell_type": "code",
      "source": [
        "\n",
        "i = 3\n",
        "while i < 70:\n",
        "    print(i)\n",
        "    i += 9"
      ],
      "metadata": {
        "id": "ORMoNrE8Kj-5",
        "outputId": "d8308ff6-61c5-4bca-940a-8d8d061cc456",
        "colab": {
          "base_uri": "https://localhost:8080/"
        }
      },
      "execution_count": null,
      "outputs": [
        {
          "output_type": "stream",
          "name": "stdout",
          "text": [
            "3\n",
            "12\n",
            "21\n",
            "30\n",
            "39\n",
            "48\n",
            "57\n",
            "66\n"
          ]
        }
      ]
    },
    {
      "cell_type": "markdown",
      "source": [
        "ANOTHER  ONE  EXAMPLE"
      ],
      "metadata": {
        "id": "GofYT9oQKqXN"
      }
    },
    {
      "cell_type": "code",
      "source": [
        "i = 5\n",
        "while i > 0:\n",
        "    print(i)\n",
        "    i -= 1"
      ],
      "metadata": {
        "id": "4NzwqX59K7d_",
        "outputId": "2e912cbe-0adf-42ad-ff21-a0ac7d93ff4f",
        "colab": {
          "base_uri": "https://localhost:8080/"
        }
      },
      "execution_count": null,
      "outputs": [
        {
          "output_type": "stream",
          "name": "stdout",
          "text": [
            "5\n",
            "4\n",
            "3\n",
            "2\n",
            "1\n"
          ]
        }
      ]
    },
    {
      "cell_type": "markdown",
      "source": [
        "4. LOOP CONTROL STATEMENT  \n",
        "\n",
        "\n",
        "\n",
        "⛔ break: Stop the loop"
      ],
      "metadata": {
        "id": "i2PK1XR6LKYP"
      }
    },
    {
      "cell_type": "code",
      "source": [
        "for i in range(98 ,0, -12):\n",
        "    if i == 56:\n",
        "         break\n",
        "    print(i)"
      ],
      "metadata": {
        "id": "jwsVV8YyLdaR",
        "outputId": "dad2c07d-08bb-4360-9c63-a9e107c571af",
        "colab": {
          "base_uri": "https://localhost:8080/"
        }
      },
      "execution_count": null,
      "outputs": [
        {
          "output_type": "stream",
          "name": "stdout",
          "text": [
            "98\n",
            "86\n",
            "74\n",
            "62\n",
            "50\n",
            "38\n",
            "26\n",
            "14\n",
            "2\n"
          ]
        }
      ]
    },
    {
      "cell_type": "markdown",
      "source": [
        "PASS :  Do nothing (just placeholder)"
      ],
      "metadata": {
        "id": "6-O89ezkLgMQ"
      }
    },
    {
      "cell_type": "code",
      "source": [
        "\n",
        "for i in range(23):\n",
        "    if i == 12:\n",
        "         pass\n",
        "    print(i)"
      ],
      "metadata": {
        "id": "GtIdFXbLLozI",
        "outputId": "f981ad69-91c6-43a0-fca0-e4d2041f1c21",
        "colab": {
          "base_uri": "https://localhost:8080/"
        }
      },
      "execution_count": null,
      "outputs": [
        {
          "output_type": "stream",
          "name": "stdout",
          "text": [
            "0\n",
            "1\n",
            "2\n",
            "3\n",
            "4\n",
            "5\n",
            "6\n",
            "7\n",
            "8\n",
            "9\n",
            "10\n",
            "11\n",
            "12\n",
            "13\n",
            "14\n",
            "15\n",
            "16\n",
            "17\n",
            "18\n",
            "19\n",
            "20\n",
            "21\n",
            "22\n"
          ]
        }
      ]
    },
    {
      "cell_type": "markdown",
      "source": [
        "CONTINUE :  Skip current step"
      ],
      "metadata": {
        "id": "UfuqzMIGLvjb"
      }
    },
    {
      "cell_type": "code",
      "source": [
        "for i in range(5):\n",
        "    if i == 3:\n",
        "        continue\n",
        "    print(i)"
      ],
      "metadata": {
        "id": "JIlVcW0qMInI",
        "outputId": "14b5642a-6361-40d7-a84b-39b721a80527",
        "colab": {
          "base_uri": "https://localhost:8080/"
        }
      },
      "execution_count": null,
      "outputs": [
        {
          "output_type": "stream",
          "name": "stdout",
          "text": [
            "0\n",
            "1\n",
            "2\n",
            "4\n"
          ]
        }
      ]
    },
    {
      "cell_type": "markdown",
      "source": [
        "5.   Else with loops\n",
        "\n",
        "\n",
        "> Runs only if loop finishes without break\n",
        "\n",
        "\n",
        "\n",
        "✅ Example:"
      ],
      "metadata": {
        "id": "6P77UkePMQd6"
      }
    },
    {
      "cell_type": "code",
      "source": [
        "for i in range(3):\n",
        "    print(i)\n",
        "else:\n",
        "    print(\"Loop finished!\")"
      ],
      "metadata": {
        "id": "cdahPF4QM27A",
        "outputId": "c58fcbc7-f996-47d0-f02b-45859e3f56de",
        "colab": {
          "base_uri": "https://localhost:8080/"
        }
      },
      "execution_count": null,
      "outputs": [
        {
          "output_type": "stream",
          "name": "stdout",
          "text": [
            "0\n",
            "1\n",
            "2\n",
            "Loop finished!\n"
          ]
        }
      ]
    },
    {
      "cell_type": "markdown",
      "source": [
        "❌ With break (else doesn’t run):"
      ],
      "metadata": {
        "id": "yZbqcTz7M-1v"
      }
    },
    {
      "cell_type": "code",
      "source": [
        "for i in range(5):\n",
        "    if i == 2:\n",
        "        break\n",
        "    print(i)\n",
        "else:\n",
        "    print(\"Loop finished!\")"
      ],
      "metadata": {
        "id": "WpsOR3i_NTdl",
        "outputId": "0be6cc0f-6019-40b7-f7bd-c805cfde2975",
        "colab": {
          "base_uri": "https://localhost:8080/"
        }
      },
      "execution_count": null,
      "outputs": [
        {
          "output_type": "stream",
          "name": "stdout",
          "text": [
            "0\n",
            "1\n"
          ]
        }
      ]
    },
    {
      "cell_type": "markdown",
      "source": [
        "6. NESTED  LOOPS (LOOP INSIDE LOOP)\n",
        "\n",
        "✅ Example: Print pattern"
      ],
      "metadata": {
        "id": "JumeUFwyNZep"
      }
    },
    {
      "cell_type": "code",
      "source": [
        "x = 1, 4\n",
        "for i in range(1, 4):\n",
        "    print(i * '*')"
      ],
      "metadata": {
        "id": "YuxhyH3bNizp",
        "outputId": "20b9c64a-2aad-4372-e52b-efc97ff800be",
        "colab": {
          "base_uri": "https://localhost:8080/"
        }
      },
      "execution_count": null,
      "outputs": [
        {
          "output_type": "stream",
          "name": "stdout",
          "text": [
            "*\n",
            "**\n",
            "***\n"
          ]
        }
      ]
    },
    {
      "cell_type": "markdown",
      "source": [
        "ANOTHER ONE EXAMPLE"
      ],
      "metadata": {
        "id": "3v8AHuvnNnRm"
      }
    },
    {
      "cell_type": "code",
      "source": [
        "for i in range(3):\n",
        "    for j in range(3):\n",
        "        print(\"*\", end=' ')\n",
        "    print()"
      ],
      "metadata": {
        "id": "-KjId6cxNteL",
        "outputId": "22e2d6fb-7d8a-4a36-a9c3-3bb9ff81a19a",
        "colab": {
          "base_uri": "https://localhost:8080/"
        }
      },
      "execution_count": null,
      "outputs": [
        {
          "output_type": "stream",
          "name": "stdout",
          "text": [
            "* * * \n",
            "* * * \n",
            "* * * \n"
          ]
        }
      ]
    }
  ]
}