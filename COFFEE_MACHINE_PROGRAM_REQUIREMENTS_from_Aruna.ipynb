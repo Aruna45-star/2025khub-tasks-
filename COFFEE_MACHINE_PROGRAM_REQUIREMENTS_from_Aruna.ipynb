{
  "nbformat": 4,
  "nbformat_minor": 0,
  "metadata": {
    "colab": {
      "provenance": [],
      "authorship_tag": "ABX9TyOStf46qohYummwrSuuOjnC",
      "include_colab_link": true
    },
    "kernelspec": {
      "name": "python3",
      "display_name": "Python 3"
    },
    "language_info": {
      "name": "python"
    }
  },
  "cells": [
    {
      "cell_type": "markdown",
      "metadata": {
        "id": "view-in-github",
        "colab_type": "text"
      },
      "source": [
        "<a href=\"https://colab.research.google.com/github/Aruna45-star/2025khub-tasks-/blob/main/COFFEE_MACHINE_PROGRAM_REQUIREMENTS_from_Aruna.ipynb\" target=\"_parent\"><img src=\"https://colab.research.google.com/assets/colab-badge.svg\" alt=\"Open In Colab\"/></a>"
      ]
    },
    {
      "cell_type": "markdown",
      "source": [
        "COFFEE MACHINE PROGRAM REQUIREMENTS"
      ],
      "metadata": {
        "id": "YJ66xg-4wiGf"
      }
    },
    {
      "cell_type": "code",
      "source": [
        "\n",
        "water = 300\n",
        "milk = 200\n",
        "cofee = 125\n",
        "money = 0\n",
        "\n",
        "espresso_cost = 45.5\n",
        "latte_cost = 78.0\n",
        "cappuccino_cost = 25\n",
        "\n",
        "ten_rupee = 10\n",
        "twenty_note = 20\n",
        "fifty_note = 50\n",
        "hundred_note = 100\n",
        "while True:\n",
        "  choice = input(\"What would you like? (espresso/latte/cappuccino):\").lower()\n",
        "  if choice == \"off\":\n",
        "    break\n",
        "  elif choice == \"report\":\n",
        "    print(\"WATER:\",water,\"ml\")\n",
        "    print(\"MILK:\",milk,\"ml\")\n",
        "    print(\"COFFE:\",cofee,\"g\")\n",
        "    print(\"MONEY$\",money)\n",
        "  elif choice == \"espresso\" or choice == \"latte\" or choice == \"cappuccino\":\n",
        "    if choice == \"espresso\":\n",
        "      if water < 50:\n",
        "        print(\"Sorry there is not enough water.\")\n",
        "        continue\n",
        "      if cofee < 18:\n",
        "        print(\"Sorry there is not enough coffee.\")\n",
        "        continue\n",
        "      cost = espresso_cost\n",
        "\n",
        "    elif choice == \"latte\":\n",
        "      if water < 200:\n",
        "        print(\"Sorry there is not enough water.\")\n",
        "        continue\n",
        "      if milk < 150:\n",
        "        print(\"Sorry there is not enough milk.\")\n",
        "        continue\n",
        "      if cofee < 24:\n",
        "        print(\"Sorry there is not enough coffee.\")\n",
        "        continue\n",
        "      cost = latte_cost\n",
        "\n",
        "    elif choice == \"cappuccino\":\n",
        "      if water < 250:\n",
        "        print(\"Sorry there is not enough water.\")\n",
        "        continue\n",
        "      if milk < 100:\n",
        "        print(\"Sorry there is not enough milk.\")\n",
        "        continue\n",
        "      if cofee < 24:\n",
        "        print(\"Sorry there is not enough coffee.\")\n",
        "        continue\n",
        "      cost = cappuccino_cost\n",
        "\n",
        "    print(\"Please insert money.\")\n",
        "    total_payment = 0\n",
        "    try:\n",
        "        num_hundred = int(input(\"How many 100 rupee notes? \"))\n",
        "        num_fifty = int(input(\"How many 50 rupee notes? \"))\n",
        "        num_twenty = int(input(\"How many 20 rupee notes? \"))\n",
        "        num_ten = int(input(\"How many 10 rupee notes? \"))\n",
        "        total_payment = (num_hundred * hundred_note) + (num_fifty * fifty_note) + (num_twenty * twenty_note) + (num_ten * ten_rupee)\n",
        "    except ValueError:\n",
        "        print(\"Invalid input. Please enter whole numbers for the notes.\")\n",
        "        continue\n",
        "\n",
        "    if total_payment < cost:\n",
        "      print(\"Sorry that's not enough money. Money refunded.\")\n",
        "      continue\n",
        "    else:\n",
        "      change = total_payment - cost\n",
        "      if change > 0:\n",
        "        print(f\"Here is your change: ₹{change:.2f}\")\n",
        "      money += cost\n",
        "\n",
        "      if choice == \"espresso\":\n",
        "        water -= 50\n",
        "        cofee -= 18\n",
        "      elif choice == \"latte\":\n",
        "        water -= 200\n",
        "        milk -= 150\n",
        "        cofee -= 24\n",
        "      elif choice == \"cappuccino\":\n",
        "        water -= 250\n",
        "        milk -= 100\n",
        "        cofee -= 24\n",
        "\n",
        "      print(f\"Here is your {choice}. Enjoy!,have a nice day\")\n",
        "\n",
        "  else:\n",
        "    print(\"Invalid choice. Please choose espresso, latte, cappuccino, report, or off.\")"
      ],
      "metadata": {
        "colab": {
          "base_uri": "https://localhost:8080/"
        },
        "id": "5WADWrwXwqdm",
        "outputId": "1b545a8b-1ca2-4636-87ca-a8517bd387db"
      },
      "execution_count": null,
      "outputs": [
        {
          "output_type": "stream",
          "name": "stdout",
          "text": [
            "What would you like? (espresso/latte/cappuccino):Latte\n",
            "Please insert money.\n",
            "How many 100 rupee notes? 1\n",
            "How many 50 rupee notes? 1\n",
            "How many 20 rupee notes? 1\n",
            "How many 10 rupee notes? 1\n",
            "Here is your change: ₹102.00\n",
            "Here is your latte. Enjoy!,have a nice day\n"
          ]
        }
      ]
    }
  ]
}