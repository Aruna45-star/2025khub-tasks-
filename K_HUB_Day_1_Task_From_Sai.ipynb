{
  "nbformat": 4,
  "nbformat_minor": 0,
  "metadata": {
    "colab": {
      "provenance": [],
      "include_colab_link": true
    },
    "kernelspec": {
      "name": "python3",
      "display_name": "Python 3"
    },
    "language_info": {
      "name": "python"
    }
  },
  "cells": [
    {
      "cell_type": "markdown",
      "metadata": {
        "id": "view-in-github",
        "colab_type": "text"
      },
      "source": [
        "<a href=\"https://colab.research.google.com/github/Aruna45-star/2025khub-tasks-/blob/main/K_HUB_Day_1_Task_From_Sai.ipynb\" target=\"_parent\"><img src=\"https://colab.research.google.com/assets/colab-badge.svg\" alt=\"Open In Colab\"/></a>"
      ]
    },
    {
      "cell_type": "markdown",
      "source": [
        "STRING\n",
        "\n",
        "A string is a sequence of characters enclosed within single quotes ('hlo') or double quotes (\"hlo\")."
      ],
      "metadata": {
        "id": "VLDTPXYTXqED"
      }
    },
    {
      "cell_type": "code",
      "execution_count": null,
      "metadata": {
        "colab": {
          "base_uri": "https://localhost:8080/"
        },
        "id": "PGPfsVtcXeHW",
        "outputId": "73a0dc40-b8b6-4d61-dfaf-fbab065c1294"
      },
      "outputs": [
        {
          "output_type": "stream",
          "name": "stdout",
          "text": [
            "Sai\n"
          ]
        }
      ],
      "source": [
        "name = \"Sai\"\n",
        "print(name)\n"
      ]
    },
    {
      "cell_type": "markdown",
      "source": [
        "STRING METHODS\n",
        "\n",
        "upper()----Converts all letters to uppercase.\n",
        "\n",
        "lower()----Converts all letters to lowercase.\n",
        "\n",
        "strip()----Removes spaces from beginning and end.\n",
        "\n",
        "lstrip()----Removes spaces only from the left side.\n",
        "\n",
        "rstrip()----Removes spaces only from the right side.\n",
        "\n",
        "replace()----Replaces text.\n",
        "\n",
        "split()----Splits string into list of words.\n",
        "\n",
        "join()----Joins list of strings into one string.\n",
        "\n",
        "title()----Capitalizes first letter of every word.\n",
        "\n",
        "len()----Returns number of characters in string."
      ],
      "metadata": {
        "id": "bMCK-h59XvgT"
      }
    },
    {
      "cell_type": "code",
      "source": [
        "text = \" hlo frends this is kcpd \"\n",
        "\n",
        "print( text.upper())\n",
        "print( text.lower())\n",
        "print( text.strip())\n",
        "print( text.lstrip())\n",
        "print( text.rstrip())\n",
        "print( text.replace(\"hlo\", \"bye\"))\n",
        "print( text.strip().split())\n",
        "print( text.title())\n",
        "print(len(text))\n"
      ],
      "metadata": {
        "colab": {
          "base_uri": "https://localhost:8080/"
        },
        "id": "2Cahyi3CX2qE",
        "outputId": "eb4e5f95-421c-4087-c2f0-8cea292a8af0"
      },
      "execution_count": null,
      "outputs": [
        {
          "output_type": "stream",
          "name": "stdout",
          "text": [
            " HLO FRENDS THIS IS KCPD \n",
            " hlo frends this is kcpd \n",
            "hlo frends this is kcpd\n",
            "hlo frends this is kcpd \n",
            " hlo frends this is kcpd\n",
            " bye frends this is kcpd \n",
            "['hlo', 'frends', 'this', 'is', 'kcpd']\n",
            " Hlo Frends This Is Kcpd \n",
            "25\n"
          ]
        }
      ]
    },
    {
      "cell_type": "markdown",
      "source": [
        "BOOLEAN\n",
        "\n",
        "Only two values:\n",
        "\n",
        "True---1\n",
        "\n",
        "False---0\n",
        "\n",
        "Used in logical operations and conditions.\n",
        "\n",
        "OPERATORS\n",
        "\n",
        "Comparison Operators\n",
        "\n",
        "Logical Operators\n",
        "\n",
        "COMPARSION OPERATORS\n",
        "\n",
        "*equal to ==\n",
        "\n",
        "*Not equal to !=\n",
        "\n",
        "*Greater than >\n",
        "\n",
        "*Less than <\n",
        "\n",
        "*Greater than or equal >=\n",
        "\n",
        "*Less than or equal <=\n",
        "\n",
        "LOGICAL OPERATORS\n",
        "\n",
        "and----Both conditions must be true\n",
        "\n",
        "or----At least one condition is true\n",
        "\n",
        "not----Reverses the condition"
      ],
      "metadata": {
        "id": "V9R02wGKX3jt"
      }
    },
    {
      "cell_type": "code",
      "source": [
        "a = 10\n",
        "b = 5\n",
        "\n",
        "print( a > b)\n",
        "print( a < b)\n",
        "print( a == b)\n",
        "print(a != b)\n",
        "print(a >= 10 and b <= 5)\n",
        "print(a >= 10 or b <= 5)\n",
        "print(not(a == b))\n"
      ],
      "metadata": {
        "colab": {
          "base_uri": "https://localhost:8080/"
        },
        "id": "NqDJfjOYX4xx",
        "outputId": "6cf5fdfb-0155-4052-c07f-0c661e777b2d"
      },
      "execution_count": null,
      "outputs": [
        {
          "output_type": "stream",
          "name": "stdout",
          "text": [
            "True\n",
            "False\n",
            "False\n",
            "True\n",
            "True\n",
            "True\n",
            "True\n"
          ]
        }
      ]
    },
    {
      "cell_type": "markdown",
      "source": [
        "LIST\n",
        "\n",
        "Ordered\n",
        "\n",
        "Mutable\n",
        "\n",
        "Duplicates allowed"
      ],
      "metadata": {
        "id": "_Oct-HEXX5W0"
      }
    },
    {
      "cell_type": "code",
      "source": [
        "names = [\"devi\", \"swaroopa\", \"geeta\"]\n",
        "names.append(\"roja\")\n",
        "print(names)"
      ],
      "metadata": {
        "colab": {
          "base_uri": "https://localhost:8080/"
        },
        "id": "pN3ks_KAX6Ao",
        "outputId": "14bc5bc1-51a5-48f2-f5a7-604ff7f8b71d"
      },
      "execution_count": null,
      "outputs": [
        {
          "output_type": "stream",
          "name": "stdout",
          "text": [
            "['devi', 'swaroopa', 'geeta', 'roja']\n"
          ]
        }
      ]
    },
    {
      "cell_type": "markdown",
      "source": [
        "TUPLE\n",
        "\n",
        "Ordered\n",
        "\n",
        "Immutable (can't change)\n",
        "\n",
        "Allows duplicates"
      ],
      "metadata": {
        "id": "JPycZNGGX6bg"
      }
    },
    {
      "cell_type": "code",
      "source": [
        "food = (\"chicken\", \"prawns\", \"fish\")\n",
        "print(food[1])"
      ],
      "metadata": {
        "colab": {
          "base_uri": "https://localhost:8080/"
        },
        "id": "dmuUHdfSX64O",
        "outputId": "de58b607-d2bc-4016-da9e-1220ca33d30b"
      },
      "execution_count": null,
      "outputs": [
        {
          "output_type": "stream",
          "name": "stdout",
          "text": [
            "prawns\n"
          ]
        }
      ]
    },
    {
      "cell_type": "markdown",
      "source": [
        "SET\n",
        "\n",
        "Unordered\n",
        "\n",
        "No duplicates\n",
        "\n",
        "Mutable"
      ],
      "metadata": {
        "id": "zbhxQc8mX7S6"
      }
    },
    {
      "cell_type": "code",
      "source": [
        "nums = {1, 2, 3, 3,4,5,6,5,8,7}\n",
        "print(nums)\n"
      ],
      "metadata": {
        "colab": {
          "base_uri": "https://localhost:8080/"
        },
        "id": "0qOB9xZGX73v",
        "outputId": "78e7ac6b-d29b-49e2-e467-fdb3fc59ada1"
      },
      "execution_count": null,
      "outputs": [
        {
          "output_type": "stream",
          "name": "stdout",
          "text": [
            "{1, 2, 3, 4, 5, 6, 7, 8}\n"
          ]
        }
      ]
    },
    {
      "cell_type": "markdown",
      "source": [
        "DICTIONARY (dict)\n",
        "\n",
        "Key-value pairs\n",
        "\n",
        "Mutable\n",
        "\n",
        "Insertion order maintained"
      ],
      "metadata": {
        "id": "IPG_suibX8Xz"
      }
    },
    {
      "cell_type": "code",
      "source": [
        "student = {\"name\": \"sai\", \"age\": 20}\n",
        "print(student[\"name\"])\n",
        "print(student[\"age\"])\n"
      ],
      "metadata": {
        "colab": {
          "base_uri": "https://localhost:8080/"
        },
        "id": "qfg02jm7X84D",
        "outputId": "ed25effd-fbfd-40dc-827d-25307ab4aaa4"
      },
      "execution_count": null,
      "outputs": [
        {
          "output_type": "stream",
          "name": "stdout",
          "text": [
            "sai\n",
            "20\n"
          ]
        }
      ]
    },
    {
      "cell_type": "markdown",
      "source": [
        "CONDITIONAL STATEMENTS\n",
        "\n",
        "Conditional statements are used to control the flow of your program based on a condition. They let the program make decisions and execute different code blocks depending on whether a condition is True or False\n",
        "\n",
        "if----Runs a block of code if the condition is True\n",
        "\n",
        "elif----Runs if the previous if condition is False and this one is True\n",
        "\n",
        "else----Runs when all above conditions are False"
      ],
      "metadata": {
        "id": "XEkVhOFFZOLm"
      }
    },
    {
      "cell_type": "code",
      "source": [
        "num = 0\n",
        "\n",
        "if num > 0:\n",
        "    print(\"Positive number\")\n",
        "elif num < 0:\n",
        "    print(\"Negative number\")\n",
        "else:\n",
        "    print(\"Zero\")"
      ],
      "metadata": {
        "colab": {
          "base_uri": "https://localhost:8080/"
        },
        "id": "yAZSGlm0ZNf4",
        "outputId": "012cd6b5-4eee-4a55-9c0a-8140a41c5450"
      },
      "execution_count": null,
      "outputs": [
        {
          "output_type": "stream",
          "name": "stdout",
          "text": [
            "Zero\n"
          ]
        }
      ]
    },
    {
      "cell_type": "code",
      "source": [
        "score = int(input(\"Enter your score: \"))\n",
        "\n",
        "if score >= 90:\n",
        "    print(\"Grade A\")\n",
        "elif score >= 75:\n",
        "    print(\"Grade B\")\n",
        "elif score >= 60:\n",
        "    print(\"Grade C\")\n",
        "else:\n",
        "    print(\"Fail\")"
      ],
      "metadata": {
        "colab": {
          "base_uri": "https://localhost:8080/"
        },
        "id": "lhhszCcIZYa3",
        "outputId": "c52ff9fd-ccd2-44cb-8ff1-70a3ccb6a216"
      },
      "execution_count": null,
      "outputs": [
        {
          "output_type": "stream",
          "name": "stdout",
          "text": [
            "Enter your score: 50\n",
            "Fail\n"
          ]
        }
      ]
    },
    {
      "cell_type": "markdown",
      "source": [
        "MATCH-CASE\n",
        "\n",
        "The match-case statement is used to match a variable’s value against multiple patterns (like options), and execute the block that matches\n"
      ],
      "metadata": {
        "id": "F-zbqXSkZPDM"
      }
    },
    {
      "cell_type": "code",
      "source": [
        "day = \"Friday\"\n",
        "\n",
        "match day:\n",
        "    case \"Monday\":\n",
        "        print(\"SAI\")\n",
        "    case \"Friday\":\n",
        "        print(\"MOHAN\")\n",
        "    case \"Sunday\":\n",
        "        print(\"NAIDHU\")\n",
        "    case _:\n",
        "        print(\"NOT MATCHING\")"
      ],
      "metadata": {
        "colab": {
          "base_uri": "https://localhost:8080/"
        },
        "id": "W-i9_OrpZPlc",
        "outputId": "a890f065-ebd6-4689-a4c7-4a60e62fcdb6"
      },
      "execution_count": null,
      "outputs": [
        {
          "output_type": "stream",
          "name": "stdout",
          "text": [
            "MOHAN\n"
          ]
        }
      ]
    }
  ]
}