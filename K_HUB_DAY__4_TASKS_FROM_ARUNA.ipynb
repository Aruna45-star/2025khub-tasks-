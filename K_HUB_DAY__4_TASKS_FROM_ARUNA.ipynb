{
  "nbformat": 4,
  "nbformat_minor": 0,
  "metadata": {
    "colab": {
      "provenance": [],
      "authorship_tag": "ABX9TyNVUB1XVjuOQ6m40YXlZzuR",
      "include_colab_link": true
    },
    "kernelspec": {
      "name": "python3",
      "display_name": "Python 3"
    },
    "language_info": {
      "name": "python"
    }
  },
  "cells": [
    {
      "cell_type": "markdown",
      "metadata": {
        "id": "view-in-github",
        "colab_type": "text"
      },
      "source": [
        "<a href=\"https://colab.research.google.com/github/Aruna45-star/2025khub-tasks-/blob/main/K_HUB_DAY__4_TASKS_FROM_ARUNA.ipynb\" target=\"_parent\"><img src=\"https://colab.research.google.com/assets/colab-badge.svg\" alt=\"Open In Colab\"/></a>"
      ]
    },
    {
      "cell_type": "markdown",
      "source": [
        "**\"RECURSION***"
      ],
      "metadata": {
        "id": "ucWMr9_eKvxV"
      }
    },
    {
      "cell_type": "markdown",
      "source": [
        "Recursion means a function calling itself again and again to solve a problem.\n",
        "\n",
        "> A recursive function solves a big problem by breaking it into smaller problems, and solving each small part."
      ],
      "metadata": {
        "id": "4e4wTZCtK47u"
      }
    },
    {
      "cell_type": "markdown",
      "source": [
        "1. Base Case\n",
        "\n",
        "\n",
        " This is the stopping condition.\n",
        "It tells the function when to stop calling itself.\n",
        "Without a base case, the function goes into an infinite loop.\n",
        "\n",
        "\n",
        "2. Recursive Case\n",
        "\n",
        "\n",
        "This is where the function calls itself with a smaller value.\n",
        " Each time, the problem becomes smaller."
      ],
      "metadata": {
        "id": "Oze4fJBSLB7Y"
      }
    },
    {
      "cell_type": "code",
      "source": [
        "def factorial(n):\n",
        "    if n == 0 or n == 1:\n",
        "        return 1\n",
        "    else:\n",
        "        return n * factorial(n - 1)\n",
        "\n",
        "print(factorial(3))"
      ],
      "metadata": {
        "colab": {
          "base_uri": "https://localhost:8080/"
        },
        "id": "XQ618yv8LNxI",
        "outputId": "93a2e3dc-8ea8-42a9-e1f7-ad54e70a9f61"
      },
      "execution_count": null,
      "outputs": [
        {
          "output_type": "stream",
          "name": "stdout",
          "text": [
            "6\n"
          ]
        }
      ]
    },
    {
      "cell_type": "markdown",
      "source": [
        "factorial(3)\n",
        "\n",
        "\n",
        "→ 3 * factorial(2)\n",
        "\n",
        "→ 3 * (2 * factorial(1))\n",
        "\n",
        "→ 3 * (2 * 1)\n",
        "\n",
        "→ 6"
      ],
      "metadata": {
        "id": "_FQ8WjHgLjAh"
      }
    },
    {
      "cell_type": "code",
      "source": [
        "def print_1_to_n(n):\n",
        "    if n == 0:\n",
        "        return\n",
        "    print_1_to_n(n - 1)\n",
        "    print(n)\n",
        "\n",
        "print_1_to_n(5)"
      ],
      "metadata": {
        "colab": {
          "base_uri": "https://localhost:8080/"
        },
        "id": "ZdJa8ZNeLozz",
        "outputId": "1e4392ed-961d-426f-9b84-4e4fc362fdf9"
      },
      "execution_count": null,
      "outputs": [
        {
          "output_type": "stream",
          "name": "stdout",
          "text": [
            "1\n",
            "2\n",
            "3\n",
            "4\n",
            "5\n"
          ]
        }
      ]
    },
    {
      "cell_type": "code",
      "source": [
        "def sum_n(n):\n",
        "    if n == 1:\n",
        "        return 1\n",
        "    else:\n",
        "        return n + sum_n(n - 1)\n",
        "\n",
        "print(sum_n(5))"
      ],
      "metadata": {
        "colab": {
          "base_uri": "https://localhost:8080/"
        },
        "id": "OVEX3FGSL9d7",
        "outputId": "ddddfb20-64da-47fd-e483-6ecc4abc9d65"
      },
      "execution_count": null,
      "outputs": [
        {
          "output_type": "stream",
          "name": "stdout",
          "text": [
            "15\n"
          ]
        }
      ]
    },
    {
      "cell_type": "code",
      "source": [
        "def reverse_string(s):\n",
        "    if len(s) == 0:\n",
        "        return s\n",
        "    else:\n",
        "        return reverse_string(s[1:]) + s[0]\n",
        "\n",
        "print(reverse_string(\"hello\"))"
      ],
      "metadata": {
        "colab": {
          "base_uri": "https://localhost:8080/"
        },
        "id": "3wwbsS7YMGkm",
        "outputId": "b1adb454-325d-4088-a34f-a66253303fb5"
      },
      "execution_count": null,
      "outputs": [
        {
          "output_type": "stream",
          "name": "stdout",
          "text": [
            "olleh\n"
          ]
        }
      ]
    },
    {
      "cell_type": "code",
      "source": [
        "def hello(n):\n",
        "    if n == 0:\n",
        "        return\n",
        "    print(\"Hello\")\n",
        "    hello(n - 1)\n",
        "\n",
        "hello(3)"
      ],
      "metadata": {
        "colab": {
          "base_uri": "https://localhost:8080/"
        },
        "id": "UmRlJlzUMULB",
        "outputId": "10e52dca-8bff-4c79-9df0-1ef3a1c3898d"
      },
      "execution_count": null,
      "outputs": [
        {
          "output_type": "stream",
          "name": "stdout",
          "text": [
            "Hello\n",
            "Hello\n",
            "Hello\n"
          ]
        }
      ]
    }
  ]
}